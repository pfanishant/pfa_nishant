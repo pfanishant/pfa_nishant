{
 "cells": [
  {
   "cell_type": "code",
   "execution_count": 2,
   "id": "92958df0",
   "metadata": {},
   "outputs": [
    {
     "name": "stdout",
     "output_type": "stream",
     "text": [
      "No. is smaller than 10\n",
      "This statement will always be executed\n"
     ]
    }
   ],
   "source": [
    "num=5\n",
    "if num<10:\n",
    "    print('No. is smaller than 10')\n",
    "print('This statement will always be executed')"
   ]
  },
  {
   "cell_type": "code",
   "execution_count": 4,
   "id": "573f9e3e",
   "metadata": {},
   "outputs": [
    {
     "name": "stdout",
     "output_type": "stream",
     "text": [
      "Enter the passing score:  60\n",
      "Type your score: 77\n",
      "Congratulations! You have passed your exam\n"
     ]
    }
   ],
   "source": [
    "passing_score=float(input('Enter the passing score:  '))\n",
    "my_score=float(input('Type your score: '))\n",
    "if my_score>=passing_score:\n",
    "    print('Congratulations! You have passed your exam')\n",
    "else:\n",
    "    print('You need to work hard')"
   ]
  },
  {
   "cell_type": "code",
   "execution_count": 8,
   "id": "a473a7b8",
   "metadata": {},
   "outputs": [
    {
     "name": "stdout",
     "output_type": "stream",
     "text": [
      "number is positive\n",
      "number is less than 10\n"
     ]
    }
   ],
   "source": [
    "num=5\n",
    "if num>=0:\n",
    "    print('number is positive')\n",
    "if num<10:\n",
    "    print('number is less than 10')"
   ]
  },
  {
   "cell_type": "code",
   "execution_count": 11,
   "id": "691c2e31",
   "metadata": {},
   "outputs": [
    {
     "name": "stdout",
     "output_type": "stream",
     "text": [
      "Enter a number:  1\n",
      "number is greater than 0\n"
     ]
    }
   ],
   "source": [
    "n=float(input('Enter a number:  '))\n",
    "if n!=0 and n>0:\n",
    "    print('number is greater than 0')"
   ]
  },
  {
   "cell_type": "code",
   "execution_count": 14,
   "id": "0a304a08",
   "metadata": {},
   "outputs": [
    {
     "name": "stdout",
     "output_type": "stream",
     "text": [
      "Enter a no> 10\n",
      "Enter a no> 20\n",
      "Enter a no> 30\n",
      "All the conditions are true\n"
     ]
    }
   ],
   "source": [
    "num1=float(input('Enter a no> '))\n",
    "num2=float(input('Enter a no> '))\n",
    "num3=float(input('Enter a no> '))\n",
    "if num1==10 and num2==20 and num3==30:\n",
    "    print('All the conditions are true')"
   ]
  },
  {
   "cell_type": "code",
   "execution_count": 15,
   "id": "a9bdf2fb",
   "metadata": {},
   "outputs": [
    {
     "name": "stdout",
     "output_type": "stream",
     "text": [
      "Enter a fruit name> Mango\n",
      "It's a fruit\n"
     ]
    }
   ],
   "source": [
    "fruitName=input('Enter a fruit name> ')\n",
    "if fruitName== 'Mango' or 'Apple':\n",
    "    print(\"It's a fruit\")"
   ]
  }
 ],
 "metadata": {
  "kernelspec": {
   "display_name": "Python 3",
   "language": "python",
   "name": "python3"
  },
  "language_info": {
   "codemirror_mode": {
    "name": "ipython",
    "version": 3
   },
   "file_extension": ".py",
   "mimetype": "text/x-python",
   "name": "python",
   "nbconvert_exporter": "python",
   "pygments_lexer": "ipython3",
   "version": "3.8.8"
  }
 },
 "nbformat": 4,
 "nbformat_minor": 5
}
