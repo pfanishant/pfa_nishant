{
 "cells": [
  {
   "cell_type": "code",
   "execution_count": 2,
   "id": "ebdae3ba",
   "metadata": {},
   "outputs": [
    {
     "name": "stdout",
     "output_type": "stream",
     "text": [
      "No. is smaller than 10\n",
      "This statement will always be executed\n"
     ]
    }
   ],
   "source": [
    "num=5\n",
    "if num<10: #if the number is less than 10 it will print that\n",
    "    print('No. is smaller than 10')\n",
    "print('This statement will always be executed')# this statement si not a part of the loop so it will always be printed"
   ]
  },
  {
   "cell_type": "code",
   "execution_count": 4,
   "id": "495aac13",
   "metadata": {},
   "outputs": [
    {
     "name": "stdout",
     "output_type": "stream",
     "text": [
      "Enter the passing score:  60\n",
      "Type your score: 77\n",
      "Congratulations! You have passed your exam\n"
     ]
    }
   ],
   "source": [
    "passing_score=float(input('Enter the passing score:  '))\n",
    "my_score=float(input('Type your score: '))\n",
    "if my_score>=passing_score: #if passing score is less than my score than the first st. will be printed otherwise else will be printed \n",
    "    print('Congratulations! You have passed your exam')\n",
    "else:\n",
    "    print('You need to work hard')"
   ]
  },
  {
   "cell_type": "code",
   "execution_count": 8,
   "id": "7ed42f9a",
   "metadata": {},
   "outputs": [
    {
     "name": "stdout",
     "output_type": "stream",
     "text": [
      "number is positive\n",
      "number is less than 10\n"
     ]
    }
   ],
   "source": [
    "num=5\n",
    "if num>=0: #if the number is greater than or equal to 0 than this if st will be printed\n",
    "    print('number is positive')\n",
    "if num<10:#if this condition is true than the st. will be printed\n",
    "    print('number is less than 10') "
   ]
  },
  {
   "cell_type": "code",
   "execution_count": 11,
   "id": "04400c5e",
   "metadata": {},
   "outputs": [
    {
     "name": "stdout",
     "output_type": "stream",
     "text": [
      "Enter a number:  1\n",
      "number is greater than 0\n"
     ]
    }
   ],
   "source": [
    "n=float(input('Enter a number:  '))\n",
    "if n!=0 and n>0: #if both these conditions will be true then only the print st. will be executed\n",
    "    print('number is greater than 0')"
   ]
  },
  {
   "cell_type": "code",
   "execution_count": 14,
   "id": "6440f05d",
   "metadata": {},
   "outputs": [
    {
     "name": "stdout",
     "output_type": "stream",
     "text": [
      "Enter a no> 10\n",
      "Enter a no> 20\n",
      "Enter a no> 30\n",
      "All the conditions are true\n"
     ]
    }
   ],
   "source": [
    "num1=float(input('Enter a no> '))\n",
    "num2=float(input('Enter a no> '))\n",
    "num3=float(input('Enter a no> '))\n",
    "if num1==10 and num2==20 and num3==30: #if all 3 conditions will be true then only the print st. be executed\n",
    "    print('All the conditions are true')"
   ]
  },
  {
   "cell_type": "code",
   "execution_count": 15,
   "id": "03ff50da",
   "metadata": {},
   "outputs": [
    {
     "name": "stdout",
     "output_type": "stream",
     "text": [
      "Enter a fruit name> Mango\n",
      "It's a fruit\n"
     ]
    }
   ],
   "source": [
    "fruitName=input('Enter a fruit name> ')\n",
    "if fruitName== 'Mango' or 'Apple': # if either of the condition is met then the print st. will be executed\n",
    "    print(\"It's a fruit\")"
   ]
  }
 ],
 "metadata": {
  "kernelspec": {
   "display_name": "Python 3",
   "language": "python",
   "name": "python3"
  },
  "language_info": {
   "codemirror_mode": {
    "name": "ipython",
    "version": 3
   },
   "file_extension": ".py",
   "mimetype": "text/x-python",
   "name": "python",
   "nbconvert_exporter": "python",
   "pygments_lexer": "ipython3",
   "version": "3.8.8"
  }
 },
 "nbformat": 4,
 "nbformat_minor": 5
}
