{
 "cells": [
  {
   "cell_type": "code",
   "execution_count": 7,
   "id": "f20cb8a1",
   "metadata": {},
   "outputs": [
    {
     "name": "stdout",
     "output_type": "stream",
     "text": [
      "[12, 35, 9, 56, 24]\n",
      "[24, 35, 9, 56, 12]\n"
     ]
    }
   ],
   "source": [
    "list=[]\n",
    "list.append(12)\n",
    "list.append(35)\n",
    "list.append(9)\n",
    "list.append(56)\n",
    "list.append(24)\n",
    "print(list)\n",
    "list[0]=24\n",
    "list[-1]=12\n",
    "print(list)"
   ]
  },
  {
   "cell_type": "code",
   "execution_count": 10,
   "id": "8d324db2",
   "metadata": {},
   "outputs": [
    {
     "name": "stdout",
     "output_type": "stream",
     "text": [
      "[1, 2, 3]\n",
      "[3, 2, 1]\n"
     ]
    }
   ],
   "source": [
    "list2=[1,2,3]\n",
    "print(list2)\n",
    "list2[0]=3\n",
    "list2[1]=2\n",
    "list2[2]=1\n",
    "print(list2)"
   ]
  },
  {
   "cell_type": "code",
   "execution_count": 12,
   "id": "bd62e339",
   "metadata": {},
   "outputs": [
    {
     "name": "stdout",
     "output_type": "stream",
     "text": [
      "5\n"
     ]
    }
   ],
   "source": [
    "ns=[1,4,5,7,8]\n",
    "print(len(ns))"
   ]
  },
  {
   "cell_type": "code",
   "execution_count": 15,
   "id": "5e09e69f",
   "metadata": {},
   "outputs": [
    {
     "name": "stdout",
     "output_type": "stream",
     "text": [
      "The length of the list is 4\n"
     ]
    }
   ],
   "source": [
    "emp=[]\n",
    "emp.append('Geeks')\n",
    "emp.append('Are')\n",
    "emp.append('For')\n",
    "emp.append('Geeks')\n",
    "print('The length of the list is', len(emp))"
   ]
  },
  {
   "cell_type": "code",
   "execution_count": 20,
   "id": "c262c07f",
   "metadata": {},
   "outputs": [
    {
     "data": {
      "text/plain": [
       "(4, 2)"
      ]
     },
     "execution_count": 20,
     "metadata": {},
     "output_type": "execute_result"
    }
   ],
   "source": [
    "a=2\n",
    "b=4\n",
    "max(a,b),min(a,b)"
   ]
  },
  {
   "cell_type": "code",
   "execution_count": 21,
   "id": "82012a6a",
   "metadata": {},
   "outputs": [
    {
     "data": {
      "text/plain": [
       "(-1, -4)"
      ]
     },
     "execution_count": 21,
     "metadata": {},
     "output_type": "execute_result"
    }
   ],
   "source": [
    "a=-1\n",
    "b=-4\n",
    "max(a,b),min(a,b)"
   ]
  }
 ],
 "metadata": {
  "kernelspec": {
   "display_name": "Python 3",
   "language": "python",
   "name": "python3"
  },
  "language_info": {
   "codemirror_mode": {
    "name": "ipython",
    "version": 3
   },
   "file_extension": ".py",
   "mimetype": "text/x-python",
   "name": "python",
   "nbconvert_exporter": "python",
   "pygments_lexer": "ipython3",
   "version": "3.8.8"
  }
 },
 "nbformat": 4,
 "nbformat_minor": 5
}
