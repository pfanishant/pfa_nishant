{
 "cells": [
  {
   "cell_type": "code",
   "execution_count": 1,
   "id": "ab73a39e",
   "metadata": {},
   "outputs": [
    {
     "name": "stdout",
     "output_type": "stream",
     "text": [
      "10\n",
      "0\n",
      "15\n",
      "5.0\n",
      "4\n",
      "16\n"
     ]
    }
   ],
   "source": [
    "#addition\n",
    "print(5+5)\n",
    "#subtraction\n",
    "print(5-5)\n",
    "\n",
    "#multiplication\n",
    "print(3*5)\n",
    "#division\n",
    "print(10/2)\n",
    "#remainder\n",
    "print(18%7)\n",
    "#raise to the power\n",
    "print(4**2)"
   ]
  },
  {
   "cell_type": "code",
   "execution_count": 11,
   "id": "25065b61",
   "metadata": {},
   "outputs": [
    {
     "name": "stdout",
     "output_type": "stream",
     "text": [
      "Money earned in interest is 1750.0000000000002\n",
      "Total value of savings 6750.0\n"
     ]
    }
   ],
   "source": [
    "P=5000\n",
    "R=0.07\n",
    "T=5\n",
    "I= P*R*T\n",
    "Total= P + I\n",
    "print('Money earned in interest is',I))\n",
    "print('Total value of savings', Total))"
   ]
  },
  {
   "cell_type": "code",
   "execution_count": 12,
   "id": "0ec603e0",
   "metadata": {},
   "outputs": [
    {
     "name": "stdout",
     "output_type": "stream",
     "text": [
      "7.0\n"
     ]
    }
   ],
   "source": [
    "R=.087\n",
    "P=8000\n",
    "I=4872\n",
    "T= I/(P*R) #formula for getting the time \n",
    "print(T)"
   ]
  },
  {
   "cell_type": "code",
   "execution_count": 14,
   "id": "59ba52f3",
   "metadata": {},
   "outputs": [
    {
     "name": "stdout",
     "output_type": "stream",
     "text": [
      "6.4\n"
     ]
    }
   ],
   "source": [
    "P=3000\n",
    "T=4\n",
    "I=768\n",
    "R=I/(P*T)*100 #finding the rate of interest\n",
    "print(R)"
   ]
  },
  {
   "cell_type": "code",
   "execution_count": 15,
   "id": "de0c01fd",
   "metadata": {},
   "outputs": [
    {
     "name": "stdout",
     "output_type": "stream",
     "text": [
      "194.87171000000012\n"
     ]
    }
   ],
   "source": [
    "print(100*(1.1)**7) #Amount which we will get after 7 years\n"
   ]
  },
  {
   "cell_type": "code",
   "execution_count": 17,
   "id": "75da0328",
   "metadata": {},
   "outputs": [
    {
     "name": "stdout",
     "output_type": "stream",
     "text": [
      "194.87171000000012\n"
     ]
    }
   ],
   "source": [
    "savings= 100*(1.1)**7\n",
    "print(savings)"
   ]
  },
  {
   "cell_type": "code",
   "execution_count": 19,
   "id": "2d0002f3",
   "metadata": {},
   "outputs": [
    {
     "name": "stdout",
     "output_type": "stream",
     "text": [
      "194.87171000000012\n"
     ]
    }
   ],
   "source": [
    "growth_multiplier=1.1\n",
    "result= 100*(growth_multiplier)**7 #calculating the result\n",
    "print(result)"
   ]
  },
  {
   "cell_type": "code",
   "execution_count": 32,
   "id": "b54218fe",
   "metadata": {},
   "outputs": [],
   "source": [
    "desc='compound interest'\n",
    "profitable= True"
   ]
  },
  {
   "cell_type": "code",
   "execution_count": 38,
   "id": "bf84a673",
   "metadata": {},
   "outputs": [
    {
     "name": "stdout",
     "output_type": "stream",
     "text": [
      "<class 'float'>\n",
      "<class 'str'>\n",
      "<class 'bool'>\n",
      "<class 'float'>\n",
      "<class 'str'>\n",
      "<class 'bool'>\n",
      "<class 'float'>\n"
     ]
    }
   ],
   "source": [
    "A=10.7\n",
    "B= 'This is python course'\n",
    "C= False\n",
    "print(type(A))\n",
    "print(type(B))\n",
    "print(type(C))\n",
    "print(type(savings))\n",
    "print(type(desc))\n",
    "print(type(profitable))\n",
    "print(type(growth_multiplier))"
   ]
  },
  {
   "cell_type": "code",
   "execution_count": 40,
   "id": "bdc9e865",
   "metadata": {},
   "outputs": [
    {
     "name": "stdout",
     "output_type": "stream",
     "text": [
      "<class 'float'>\n"
     ]
    }
   ],
   "source": [
    "year1= savings*growth_multiplier\n",
    "print(type(year1)) #printing out the type of year1 as savings is of flot class so the product also comes out as float"
   ]
  },
  {
   "cell_type": "code",
   "execution_count": 41,
   "id": "9d0ac461",
   "metadata": {},
   "outputs": [
    {
     "name": "stdout",
     "output_type": "stream",
     "text": [
      "compound interestcompound interest\n"
     ]
    }
   ],
   "source": [
    "doubledesc= desc+desc #adding desc with desc and storing the value in doubledesc\n",
    "print(doubledesc)\n",
    "#as desc is a string so when we add them it combines both the strings"
   ]
  },
  {
   "cell_type": "code",
   "execution_count": 44,
   "id": "dce93098",
   "metadata": {},
   "outputs": [
    {
     "name": "stdout",
     "output_type": "stream",
     "text": [
      "I started with $100and now have $194.87171000000012. Awesome!\n"
     ]
    }
   ],
   "source": [
    "savings=100\n",
    "result= 100*1.1**7\n",
    "print('I started with $' +str(savings)+'and now have $'+str(result)+'. Awesome!')\n",
    "#changing the type of savings and results as int or floats cannot be added with strings"
   ]
  },
  {
   "cell_type": "code",
   "execution_count": 46,
   "id": "80d3a3d2",
   "metadata": {},
   "outputs": [],
   "source": [
    "pi_string= '3.1415926'\n",
    "#converting the pi_string into float\n",
    "pi_float= float(pi_string)\n",
    "#multiplying it by 2 and saving the value in double_pi\n",
    "double_pi= pi_float *2"
   ]
  },
  {
   "cell_type": "code",
   "execution_count": 48,
   "id": "a7fd3537",
   "metadata": {},
   "outputs": [
    {
     "name": "stdout",
     "output_type": "stream",
     "text": [
      "I can add integers, like5to strings.\n",
      "I saidHeyHeyHey!\n"
     ]
    },
    {
     "ename": "TypeError",
     "evalue": "can only concatenate str (not \"int\") to str",
     "output_type": "error",
     "traceback": [
      "\u001b[1;31m---------------------------------------------------------------------------\u001b[0m",
      "\u001b[1;31mTypeError\u001b[0m                                 Traceback (most recent call last)",
      "\u001b[1;32m<ipython-input-48-4e50a954f858>\u001b[0m in \u001b[0;36m<module>\u001b[1;34m\u001b[0m\n\u001b[0;32m      1\u001b[0m \u001b[0mprint\u001b[0m\u001b[1;33m(\u001b[0m\u001b[1;34m'I can add integers, like'\u001b[0m \u001b[1;33m+\u001b[0m\u001b[0mstr\u001b[0m\u001b[1;33m(\u001b[0m\u001b[1;36m5\u001b[0m\u001b[1;33m)\u001b[0m\u001b[1;33m+\u001b[0m\u001b[1;34m'to strings.'\u001b[0m\u001b[1;33m)\u001b[0m\u001b[1;33m\u001b[0m\u001b[1;33m\u001b[0m\u001b[0m\n\u001b[0;32m      2\u001b[0m \u001b[0mprint\u001b[0m\u001b[1;33m(\u001b[0m\u001b[1;34m'I said'\u001b[0m\u001b[1;33m+\u001b[0m \u001b[1;33m(\u001b[0m\u001b[1;34m'Hey'\u001b[0m\u001b[1;33m*\u001b[0m\u001b[1;36m2\u001b[0m\u001b[1;33m)\u001b[0m\u001b[1;33m+\u001b[0m\u001b[1;34m'Hey!'\u001b[0m\u001b[1;33m)\u001b[0m\u001b[1;33m\u001b[0m\u001b[1;33m\u001b[0m\u001b[0m\n\u001b[1;32m----> 3\u001b[1;33m \u001b[0mprint\u001b[0m\u001b[1;33m(\u001b[0m\u001b[1;34m'The correct answer to this multiple choice exercise is answer numer'\u001b[0m\u001b[1;33m+\u001b[0m\u001b[1;36m2\u001b[0m\u001b[1;33m)\u001b[0m\u001b[1;33m\u001b[0m\u001b[1;33m\u001b[0m\u001b[0m\n\u001b[0m\u001b[0;32m      4\u001b[0m \u001b[0mprint\u001b[0m\u001b[1;33m(\u001b[0m\u001b[1;32mTrue\u001b[0m\u001b[1;33m+\u001b[0m\u001b[1;32mFalse\u001b[0m\u001b[1;33m)\u001b[0m\u001b[1;33m\u001b[0m\u001b[1;33m\u001b[0m\u001b[0m\n",
      "\u001b[1;31mTypeError\u001b[0m: can only concatenate str (not \"int\") to str"
     ]
    }
   ],
   "source": [
    "print('I can add integers, like' +str(5)+'to strings.')\n",
    "print('I said'+ ('Hey'*2)+'Hey!')\n",
    "print('The correct answer to this multiple choice exercise is answer numer'+2)\n",
    "print(True+False)\n",
    "# So the 3rd command will give error as integers cannot be concatenated to strings"
   ]
  },
  {
   "cell_type": "code",
   "execution_count": 3,
   "id": "42110526",
   "metadata": {},
   "outputs": [
    {
     "name": "stdout",
     "output_type": "stream",
     "text": [
      "Enter a number: 5\n",
      "The given number is odd\n"
     ]
    }
   ],
   "source": [
    "n= float(input('Enter a number: '))\n",
    "if  n%2 == 0:\n",
    "    print('The given number is even')\n",
    "else:\n",
    "    print('The given number is odd')"
   ]
  },
  {
   "cell_type": "code",
   "execution_count": 4,
   "id": "8eeb6382",
   "metadata": {},
   "outputs": [
    {
     "name": "stdout",
     "output_type": "stream",
     "text": [
      "enter the temperature: 42\n",
      "The temperature in farenheit is  107.60000000000001\n"
     ]
    }
   ],
   "source": [
    "t=float(input('enter the temperature: '))\n",
    "print('The temperature in farenheit is ', (t*1.8)+32)"
   ]
  },
  {
   "cell_type": "code",
   "execution_count": 7,
   "id": "133dfb36",
   "metadata": {},
   "outputs": [
    {
     "name": "stdout",
     "output_type": "stream",
     "text": [
      "5.332682251925386\n"
     ]
    }
   ],
   "source": [
    "a=4\n",
    "b=3\n",
    "c=6\n",
    "s = (a+b+c)/2\n",
    "import math\n",
    "area= math.sqrt(s*(s-a)*(s-b)*(s-c))\n",
    "print(area)"
   ]
  },
  {
   "cell_type": "code",
   "execution_count": 5,
   "id": "f7e24b0e",
   "metadata": {},
   "outputs": [
    {
     "name": "stdout",
     "output_type": "stream",
     "text": [
      "pi is 3.141592653589793\n",
      "enter the radius: 3\n",
      "the area of the circle is 28.274333882308138\n",
      "the circumference of the circle is 18.84955592153876\n"
     ]
    }
   ],
   "source": [
    "print('pi is', math.pi)\n",
    "r=float(input('enter the radius: '))\n",
    "print('the area of the circle is', math.pi *(r)**2)\n",
    "print('the circumference of the circle is', 2*math.pi*r)"
   ]
  },
  {
   "cell_type": "code",
   "execution_count": 6,
   "id": "643ff445",
   "metadata": {},
   "outputs": [
    {
     "name": "stdout",
     "output_type": "stream",
     "text": [
      "enter an integer: 10\n",
      "It is a multiple of 5\n"
     ]
    }
   ],
   "source": [
    "i=int(input('enter an integer: '))\n",
    "if i%5 == 0:\n",
    "    print('It is a multiple of 5')\n",
    "else:\n",
    "    print('It is not a multiple of 5')"
   ]
  },
  {
   "cell_type": "code",
   "execution_count": null,
   "id": "97a10329",
   "metadata": {},
   "outputs": [],
   "source": []
  }
 ],
 "metadata": {
  "kernelspec": {
   "display_name": "Python 3",
   "language": "python",
   "name": "python3"
  },
  "language_info": {
   "codemirror_mode": {
    "name": "ipython",
    "version": 3
   },
   "file_extension": ".py",
   "mimetype": "text/x-python",
   "name": "python",
   "nbconvert_exporter": "python",
   "pygments_lexer": "ipython3",
   "version": "3.8.8"
  }
 },
 "nbformat": 4,
 "nbformat_minor": 5
}
